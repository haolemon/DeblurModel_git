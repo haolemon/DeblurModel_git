{
 "cells": [
  {
   "cell_type": "code",
   "execution_count": 2,
   "metadata": {
    "collapsed": true,
    "ExecuteTime": {
     "end_time": "2024-04-26T06:16:53.932210600Z",
     "start_time": "2024-04-26T06:16:41.295660900Z"
    }
   },
   "outputs": [
    {
     "name": "stdout",
     "output_type": "stream",
     "text": [
      "warm up ...\n",
      "\n",
      "testing ...\n",
      "\n"
     ]
    },
    {
     "name": "stderr",
     "output_type": "stream",
     "text": [
      "100%|██████████| 100/100 [00:05<00:00, 18.10it/s]"
     ]
    },
    {
     "name": "stdout",
     "output_type": "stream",
     "text": [
      "\n",
      "avg=54.17315055847168\n",
      "\n"
     ]
    },
    {
     "name": "stderr",
     "output_type": "stream",
     "text": [
      "\n"
     ]
    }
   ],
   "source": [
    "import numpy as np\n",
    "from torch.backends import cudnn\n",
    "import tqdm\n",
    "import torch\n",
    "from MLWNet.models.MLWNet_arch import MLWNet\n",
    "cudnn.benchmark = True\n",
    "\n",
    "device = torch.device('cuda:0')\n",
    "img_channel = 3\n",
    "width = 32\n",
    "\n",
    "# enc_blks = [2, 2, 4, 8]\n",
    "# middle_blk_num = 12\n",
    "# dec_blks = [2, 2, 2, 2]\n",
    "enc_blks = [1, 1, 1, 28]\n",
    "middle_blk_num = 1\n",
    "dec_blks = [1, 1, 1, 1]\n",
    "\n",
    "model = MLWNet().to(device)\n",
    "# model.half()\n",
    "\n",
    "repetitions = 100\n",
    "\n",
    "dummy_input = torch.rand(1, 3, 256, 256).to(device)\n",
    "\n",
    "# 预热, GPU 平时可能为了节能而处于休眠状态, 因此需要预热\n",
    "print('warm up ...\\n')\n",
    "with torch.no_grad():\n",
    "    for _ in range(100):\n",
    "        _ = model(dummy_input)\n",
    "\n",
    "# synchronize 等待所有 GPU 任务处理完才返回 CPU 主线程\n",
    "torch.cuda.synchronize()\n",
    "\n",
    "\n",
    "# 设置用于测量时间的 cuda Event, 这是PyTorch 官方推荐的接口,理论上应该最靠谱\n",
    "starter, ender = torch.cuda.Event(enable_timing=True), torch.cuda.Event(enable_timing=True)\n",
    "# 初始化一个时间容器\n",
    "timings = np.zeros((repetitions, 1))\n",
    "\n",
    "print('testing ...\\n')\n",
    "with torch.no_grad():\n",
    "    for rep in tqdm.tqdm(range(repetitions)):\n",
    "        starter.record()\n",
    "        _ = model(dummy_input)\n",
    "        ender.record()\n",
    "        torch.cuda.synchronize() # 等待GPU任务完成\n",
    "        curr_time = starter.elapsed_time(ender) # 从 starter 到 ender 之间用时,单位为毫秒\n",
    "        timings[rep] = curr_time\n",
    "\n",
    "avg = timings.sum()/repetitions\n",
    "print('\\navg={}\\n'.format(avg))"
   ]
  }
 ],
 "metadata": {
  "kernelspec": {
   "display_name": "Python 3",
   "language": "python",
   "name": "python3"
  },
  "language_info": {
   "codemirror_mode": {
    "name": "ipython",
    "version": 2
   },
   "file_extension": ".py",
   "mimetype": "text/x-python",
   "name": "python",
   "nbconvert_exporter": "python",
   "pygments_lexer": "ipython2",
   "version": "2.7.6"
  }
 },
 "nbformat": 4,
 "nbformat_minor": 0
}
